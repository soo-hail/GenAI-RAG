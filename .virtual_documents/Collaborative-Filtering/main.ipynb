import pandas as pd
import numpy as np
from scipy import sparse
from sklearn.metrics.pairwise import cosine_similarity


# DEFINE DATA AS A DICTIONARY.
data_dict = {
    'userId': ['user 1', 'user 2', 'user 3', 'user 4', 'user 5'],
    'action1': [4, 5, 1, np.nan, 1],
    'action2': [5, 3, np.nan, 2, np.nan],
    'action3': [3, 3, np.nan, 1, 2],
    'romantic1': [np.nan, 2, 4, 4, 3],
    'romantic2': [2, 2, 5, np.nan, 3],
    'romantic3': [1, np.nan, 4, 3, 4]
}

# CREATE DATA-FRAME.
rating_data = pd.DataFrame(data_dict)
rating_data.set_index('userId', inplace=True)
rating_data.index.name = None


rating_data





# STANDARIZE(NORMALIZE THE DATA AROUND ZERO) ALL THE RATINGS OF A USERS - MAKE 0 AS A MEAN
rating_data = rating_data.fillna(0) # ANY-WAYS ZERO IS GONNA BE MEAN.

def standardize(row):
    # MAKE 0 AS THE A MEAN(RATING).
    new_row = (row - row.mean()) / row.max()

    return new_row


rating_data = rating_data.apply(standardize)


rating_data


# Transpose of DataFrame - to find similarity of movies, based on ratings of a users.
rating_data = rating_data.T
rating_data


# FIND COSINE-SIMILARITY.
item_similarity = cosine_similarity(rating_data) # ITEM SIMILARTY-MATRIX BASED ON RATINGS OF USERS.
print(item_similarity)


item_similarity_df = pd.DataFrame(item_similarity, index = rating_data.index, columns = rating_data.index)
item_similarity_df


# GET SIMILAR MOVIE FUNCTION.
def get_similar_movie(movie_name, user_rating):
    scores = item_similarity_df[movie_name] * (user_rating - 2.5) # LOGIC BRO LOGIC(TAKE TIME UNDERSTAND)
    scores = scores.sort_values(ascending = False)

    return scores

# TEST GET-SIMILAR-MOVIE(METHOD) BASED ON USER-RATING ON SINGLE MOVIE.
# print(get_similar_movie('action1', 4)) # BY GIVING POSITIVE RATING.
print(get_similar_movie('action1', 1)) # BY GIVING NEGITIVE RATING


# TEST(EVALUATE) GET-SIMILAR-MOVIE METHOD BASED ON USER-RATINGS ON MUTIPLE MOVIES.
action_lover = [("action1",5),("romantic2",1),("romantic3",1)] # LIST OF MOVIES AND RATINGS.
similar_scores = []

for movie, rating in action_lover:
    similar_scores.append(get_similar_movie(movie, rating))

index = [i for i in range(0, len(action_lover))]

similar_scores_df = pd.DataFrame(similar_scores, index = index) # CONVERT LIST TO A DATA-FRAME.
similar_scores_df  # EACH ROW REPRESENTS SIMILARITY SCORES OF ALL MOVIES WITH GIVEN MOVIE-RATING.


# SUM ALL RATINGS(THEY WERE BASED ON COLLECTION OD MOVIES) TO GET OVERALL RECOMENDATIONS.
similar_scores_df.sum().sort_values(ascending = False)
